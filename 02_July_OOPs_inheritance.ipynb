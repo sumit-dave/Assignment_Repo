{
 "cells": [
  {
   "cell_type": "code",
   "execution_count": null,
   "id": "c8d7e3bc",
   "metadata": {},
   "outputs": [],
   "source": [
    "#1. Explain what inheritance is in object-oriented programming and why it is used.\n",
    "\"\"\"\n",
    "Ans.\n",
    "\n",
    "Inheritance is a fundamental concept in OOP that allows a new class (subclass) to inherit attributes and methods from an \n",
    "existing class (superclass). Inheritance promotes code reuse and enables the creation of specialized classes that have a \n",
    "common set of attributes and methods from a more general class.\n",
    "\"\"\""
   ]
  },
  {
   "cell_type": "code",
   "execution_count": null,
   "id": "52d10711",
   "metadata": {},
   "outputs": [],
   "source": [
    "#2. Discuss the concept of single inheritance and multiple inheritance, highlighting their differences and advantages.\n",
    "\"\"\"\n",
    "Ans.\n",
    "\n",
    "*Single Inheritance: In single inheritance, a class inherits from only one base class. This simplifies the class hierarchy and \n",
    "reduces complexity. It's easier to understand and manage, but it limits the reusability of code.\n",
    "\n",
    "*Multiple Inheritance: In multiple inheritance, a class can inherit from multiple base classes. This allows for greater code\n",
    "reuse by combining features from multiple sources. However, it can lead to complex class hierarchies and potential conflicts \n",
    "when methods or attributes with the same name exist in different base classes.\n",
    "\n",
    "\"\"\""
   ]
  },
  {
   "cell_type": "code",
   "execution_count": 2,
   "id": "53665114",
   "metadata": {},
   "outputs": [
    {
     "name": "stdout",
     "output_type": "stream",
     "text": [
      "Parent: Hello\n",
      "Child: World\n"
     ]
    }
   ],
   "source": [
    "#3. Explain the terms \"base class\" and \"derived class\" in the context of inheritance.\n",
    "\"\"\"\n",
    "Ans.\n",
    "\n",
    "*Base Class: Also known as a superclass or parent class, it is the class from which attributes and methods are inherited by \n",
    "other classes.\n",
    "\n",
    "*Derived Class: Also known as a subclass or child class, it is the class that inherits attributes and methods from the base \n",
    "class and can also add its own attributes and methods.\n",
    "\"\"\"\n"
   ]
  },
  {
   "cell_type": "code",
   "execution_count": null,
   "id": "2633e8d5",
   "metadata": {},
   "outputs": [],
   "source": [
    "#4. What is the significance of the \"protected\" access modifier in inheritance? How does it differ from \"private\" and \"public\" modifiers?\n",
    "\"\"\"\n",
    "Ans.\n",
    "\n",
    "*Private Access Modifier:\n",
    ":Members marked as private are only accessible within the class where they are defined. \n",
    ":They are not accessible from outside the class, including subclasses.\n",
    ":This ensures encapsulation and prevents direct access to sensitive internal details of the class.\n",
    ":Private attributes are not inherited by subclasses.\n",
    "\n",
    "*Protected Access Modifier:\n",
    ":Members marked as protected are accessible within the class where they are defined and its subclasses.\n",
    ":Protected members are often used to provide controlled access to class internals for subclasses, maintaining encapsulation while allowing derived classes to use the inherited functionality.\n",
    ":Protected members are inherited by subclasses.\n",
    "\n",
    "\n",
    "*Public Access Modifier:\n",
    ":Members marked as public are accessible from anywhere, including outside the class and its subclasses.\n",
    ":Public members provide unrestricted access to class members.\n",
    ":Public members are inherited by subclasses.\n",
    "\n",
    "\"\"\""
   ]
  },
  {
   "cell_type": "code",
   "execution_count": null,
   "id": "a79c3d0d",
   "metadata": {},
   "outputs": [],
   "source": [
    "#5. What is the purpose of the \"super\" keyword in inheritance? Provide an example.\n",
    "\"\"\"\n",
    "Ans.\n",
    "\n",
    "The \"super\" keyword in object-oriented programming is used to refer to the parent class or superclass of a derived or subclass.\n",
    "It provides a way to access and call methods and attributes of the parent class from the subclass. This is particularly useful \n",
    "when you want to extend or override methods of the parent class while still retaining some of their behavior.\n",
    "\"\"\"\n",
    "class Parent:\n",
    "    def __init__(self, value):\n",
    "        self.value = value\n",
    "\n",
    "    def show(self):\n",
    "        print(\"Parent:\", self.value)\n",
    "\n",
    "class Child(Parent):\n",
    "    def __init__(self, value, additional_value):\n",
    "        super().__init__(value)  # Call the parent class's constructor\n",
    "        self.additional_value = additional_value\n",
    "\n",
    "    def show(self):\n",
    "        super().show()  # Call the parent class's show method\n",
    "        print(\"Child:\", self.additional_value)\n",
    "\n",
    "# Creating an Object of the Child class\n",
    "child_obj = Child(\"Hello\", \"World\")\n",
    "\n",
    "# Calling the overridden show method of the Child class\n",
    "child_obj.show()"
   ]
  },
  {
   "cell_type": "code",
   "execution_count": 3,
   "id": "42303dcc",
   "metadata": {},
   "outputs": [
    {
     "name": "stdout",
     "output_type": "stream",
     "text": [
      "Toyota\n",
      "Gasoline\n"
     ]
    }
   ],
   "source": [
    "\"\"\"\n",
    "6. Create a base class called \"Vehicle\" with attributes like \"make\", \"model\", and \"year\".Then, create a derived class called \n",
    "\"Car\" that inherits from \"Vehicle\" and adds an attribute called \"fuel_type\". Implement appropriate methods in both classes.\n",
    "\"\"\"\n",
    "#Ans.\n",
    "\n",
    "class Vehicle:\n",
    "    def __init__(self, make, model, year):\n",
    "        self.make = make\n",
    "        self.model = model\n",
    "        self.year = year\n",
    "\n",
    "class Car(Vehicle):\n",
    "    def __init__(self, make, model, year, fuel_type):\n",
    "        super().__init__(make, model, year)\n",
    "        self.fuel_type = fuel_type\n",
    "\n",
    "car = Car(\"Toyota\", \"Camry\", 2023, \"Gasoline\")\n",
    "print(car.make)        # Output: Toyota\n",
    "print(car.fuel_type)   # Output: Gasoline\n",
    "\n"
   ]
  },
  {
   "cell_type": "code",
   "execution_count": null,
   "id": "f9c40afd",
   "metadata": {},
   "outputs": [],
   "source": [
    "\"\"\"\n",
    "7. Create a base class called \"Employee\" with attributes like \"name\" and \"salary.\"\n",
    "Derive two classes, \"Manager\" and \"Developer,\" from \"Employee.\" Add an additional\n",
    "attribute called \"department\" for the \"Manager\" class and \"programming_language\"\n",
    "for the \"Developer\" class.\n",
    "\"\"\"\n",
    "\n",
    "#Ans.\n",
    "class Employee:\n",
    "    def __init__(self, name, salary):\n",
    "        self.name = name\n",
    "        self.salary = salary\n",
    "\n",
    "class Manager(Employee):\n",
    "    def __init__(self, name, salary, department):\n",
    "        super().__init__(name, salary)\n",
    "        self.department = department\n",
    "\n",
    "class Developer(Employee):\n",
    "    def __init__(self, name, salary, programming_language):\n",
    "        super().__init__(name, salary)\n",
    "        self.programming_language = programming_language\n",
    "\n",
    "manager = Manager(\"Alice\", 80000, \"HR\")\n",
    "developer = Developer(\"Bob\", 75000, \"Python\")\n",
    "\n",
    "print(manager.department)           # Output: HR\n",
    "print(developer.programming_language) # Output: Python\n"
   ]
  },
  {
   "cell_type": "code",
   "execution_count": null,
   "id": "5e278f08",
   "metadata": {},
   "outputs": [],
   "source": [
    "\"\"\"\n",
    "8. Design a base class called \"Shape\" with attributes like \"colour\" and \"border_width.\"\n",
    "Create derived classes, \"Rectangle\" and \"Circle,\" that inherit from \"Shape\" and add\n",
    "specific attributes like \"length\" and \"width\" for the \"Rectangle\" class and \"radius\" for\n",
    "the \"Circle\" class.\n",
    "\"\"\"\n",
    "\n",
    "#Ans.\n",
    "class Shape:\n",
    "    def __init__(self, colour, border_width):\n",
    "        self.colour = colour\n",
    "        self.border_width = border_width\n",
    "\n",
    "class Rectangle(Shape):\n",
    "    def __init__(self, colour, border_width, length, width):\n",
    "        super().__init__(colour, border_width)\n",
    "        self.length = length\n",
    "        self.width = width\n",
    "\n",
    "class Circle(Shape):\n",
    "    def __init__(self, colour, border_width, radius):\n",
    "        super().__init__(colour, border_width)\n",
    "        self.radius = radius\n",
    "\n",
    "rectangle = Rectangle(\"Blue\", 2, 10, 5)\n",
    "circle = Circle(\"Red\", 1, 7)\n",
    "\n",
    "print(rectangle.length)  # Output: 10\n",
    "print(circle.radius)     # Output: 7\n"
   ]
  },
  {
   "cell_type": "code",
   "execution_count": null,
   "id": "d2ed9b6a",
   "metadata": {},
   "outputs": [],
   "source": [
    "\"\"\"\n",
    "9. Create a base class called \"Device\" with attributes like \"brand\" and \"model.\" Derive\n",
    "two classes, \"Phone\" and \"Tablet,\" from \"Device.\" Add specific attributes like\n",
    "\"screen_size\" for the \"Phone\" class and \"battery_capacity\" for the \"Tablet\" class.\n",
    "\"\"\"\n",
    "#Ans.\n",
    "class Device:\n",
    "    def __init__(self, brand, model):\n",
    "        self.brand = brand\n",
    "        self.model = model\n",
    "\n",
    "class Phone(Device):\n",
    "    def __init__(self, brand, model, screen_size):\n",
    "        super().__init__(brand, model)\n",
    "        self.screen_size = screen_size\n",
    "\n",
    "class Tablet(Device):\n",
    "    def __init__(self, brand, model, battery_capacity):\n",
    "        super().__init__(brand, model)\n",
    "        self.battery_capacity = battery_capacity\n",
    "\n",
    "phone = Phone(\"Apple\", \"iPhone 13\", 6.1)\n",
    "tablet = Tablet(\"Samsung\", \"Galaxy Tab S7\", \"8000 mAh\")\n",
    "\n",
    "print(phone.screen_size)       # Output: 6.1\n",
    "print(tablet.battery_capacity) # Output: 8000 mAh\n"
   ]
  },
  {
   "cell_type": "code",
   "execution_count": 4,
   "id": "bcd05bd6",
   "metadata": {},
   "outputs": [
    {
     "name": "stdout",
     "output_type": "stream",
     "text": [
      "250.0\n",
      "4950\n"
     ]
    }
   ],
   "source": [
    "\"\"\"\n",
    "10. Create a base class called \"BankAccount\" with attributes like \"account_number\" and\n",
    "\"balance.\" Derive two classes, \"SavingsAccount\" and \"CheckingAccount,\" from\n",
    "\"BankAccount.\" Add specific methods like \"calculate_interest\" for the\n",
    "\"SavingsAccount\" class and \"deduct_fees\" for the \"CheckingAccount\" class.\n",
    "\"\"\"\n",
    "#Ans.\n",
    "class BankAccount:\n",
    "    def __init__(self, account_number, balance):\n",
    "        self.account_number = account_number\n",
    "        self.balance = balance\n",
    "\n",
    "class SavingsAccount(BankAccount):\n",
    "    def calculate_interest(self, rate):\n",
    "        return self.balance * rate\n",
    "\n",
    "class CheckingAccount(BankAccount):\n",
    "    def deduct_fees(self, fee):\n",
    "        self.balance -= fee\n",
    "\n",
    "savings_account = SavingsAccount(\"12345\", 5000)\n",
    "checking_account = CheckingAccount(\"12345\", 5000)\n",
    "\n",
    "interest = savings_account.calculate_interest(0.05)\n",
    "checking_account.deduct_fees(50)\n",
    "\n",
    "print(interest)            # Output: 250.0\n",
    "print(checking_account.balance)  # Output: 4950\n"
   ]
  },
  {
   "cell_type": "code",
   "execution_count": null,
   "id": "160cebf8",
   "metadata": {},
   "outputs": [],
   "source": []
  },
  {
   "cell_type": "code",
   "execution_count": null,
   "id": "672f154b",
   "metadata": {},
   "outputs": [],
   "source": []
  },
  {
   "cell_type": "code",
   "execution_count": null,
   "id": "f874ec61",
   "metadata": {},
   "outputs": [],
   "source": []
  },
  {
   "cell_type": "code",
   "execution_count": null,
   "id": "7cfbee43",
   "metadata": {},
   "outputs": [],
   "source": []
  },
  {
   "cell_type": "code",
   "execution_count": null,
   "id": "3970b86d",
   "metadata": {},
   "outputs": [],
   "source": []
  },
  {
   "cell_type": "code",
   "execution_count": null,
   "id": "32fa8e8b",
   "metadata": {},
   "outputs": [],
   "source": []
  },
  {
   "cell_type": "code",
   "execution_count": null,
   "id": "8266c549",
   "metadata": {},
   "outputs": [],
   "source": []
  }
 ],
 "metadata": {
  "kernelspec": {
   "display_name": "Python 3 (ipykernel)",
   "language": "python",
   "name": "python3"
  },
  "language_info": {
   "codemirror_mode": {
    "name": "ipython",
    "version": 3
   },
   "file_extension": ".py",
   "mimetype": "text/x-python",
   "name": "python",
   "nbconvert_exporter": "python",
   "pygments_lexer": "ipython3",
   "version": "3.9.13"
  }
 },
 "nbformat": 4,
 "nbformat_minor": 5
}
