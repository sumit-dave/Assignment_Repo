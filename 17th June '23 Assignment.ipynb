{
 "cells": [
  {
   "cell_type": "code",
   "execution_count": null,
   "id": "5ffca7ff",
   "metadata": {},
   "outputs": [],
   "source": [
    "\"\"\"\n",
    "1. What is the role of try and exception block?\n",
    "Ans.  We use try and exception block to handle exceptions in code. Exceptions are unexpected events that can disrupt the normal flow of \n",
    "      code execution. They can occur due to various reasons, such as invalid input, unexpected conditions, resource unavailability, and \n",
    "      more.\n",
    "      *Try block: In try block we place the code which can raise error in it\n",
    "      *Except bloc: If an exception occurs within the \"try\" block, the control of the program is transferred to the\"except\" block, \n",
    "       allowing you to take appropriate actions to handle the exception.\"\"\"\n"
   ]
  },
  {
   "cell_type": "code",
   "execution_count": null,
   "id": "ad227ce9",
   "metadata": {},
   "outputs": [],
   "source": [
    "\"\"\"\n",
    "2. What is the syntax for a basic try-except block?\n",
    "\n",
    "Ans. \n",
    "try: \n",
    "      #Code that might raise an exception\n",
    "except:\n",
    "      #Code to handle the exception\"\"\"\n",
    "\n"
   ]
  },
  {
   "cell_type": "code",
   "execution_count": null,
   "id": "5096295f",
   "metadata": {},
   "outputs": [],
   "source": [
    "\"\"\"\n",
    "3. What happens if an exception occurs inside a try block and there is no matching\n",
    "except block?\n",
    "Ans.  We use except block. This is a catch-all block that will catch any exceptions not caught by the specific \"except\" blocks. It's a \n",
    "      good practice to include a generic catch-all block so that unexpected exceptions don't cause the program to crash.\"\"\"\n",
    "\n"
   ]
  },
  {
   "cell_type": "code",
   "execution_count": null,
   "id": "3c8fa525",
   "metadata": {},
   "outputs": [],
   "source": [
    "\"\"\"\"\n",
    "4. What is the difference between using a bare except block and specifying a specific exception type?\n",
    "\n",
    "Ans.  *Specific exception type:\n",
    "            When you specify a specific exception type in an except block, you are explicitly indicating that you want to catch only that particular \n",
    "            type of exception. This allows you to handle that specific exception only.\n",
    "      \n",
    "      *Bare (Generic) except Block:\n",
    "            Using a bare except block, without specifying a specific exception type, catches all types of exceptions. This can make it \n",
    "            harder to diagnose and handle errors properly because you're treating all exceptions in the same way.\n",
    "\"\"\"\"\n"
   ]
  },
  {
   "cell_type": "code",
   "execution_count": null,
   "id": "6daed785",
   "metadata": {},
   "outputs": [],
   "source": [
    "#5. Can you have nested try-except blocks in Python? If yes, then give an example.\n",
    "#Ans. Yes,\n",
    "            #Ex: \n",
    "            try:\n",
    "                outer_value = int(input(\"Enter an outer number: \"))\n",
    "                try:\n",
    "                    inner_value = int(input(\"Enter an inner number: \"))\n",
    "                    result = outer_value / inner_value\n",
    "                    print(\"Result:\", result)\n",
    "                except ZeroDivisionError:\n",
    "                    print(\"Inner Error: Cannot divide by zero.\")\n",
    "                except ValueError:\n",
    "                    print(\"Inner Error: Invalid input. Please enter a valid number.\")\n",
    "            except ValueError:\n",
    "                print(\"Outer Error: Invalid input. Please enter a valid number.\")\n",
    "            except Exception as e:\n",
    "                print(\"Outer Error:\", e)\n",
    "\n"
   ]
  },
  {
   "cell_type": "code",
   "execution_count": null,
   "id": "5e7086e1",
   "metadata": {},
   "outputs": [],
   "source": [
    "#6. Can we use multiple exception blocks, if yes then give an example.\n",
    "#Ans. Yes,\n",
    "            #Ex:\n",
    "            try:\n",
    "                num = int(input(\"Enter a number: \"))\n",
    "                result = 10 / num\n",
    "                print(\"Result:\", result)\n",
    "            except ZeroDivisionError:\n",
    "                print(\"Error: Cannot divide by zero.\")\n",
    "            except ValueError:\n",
    "                print(\"Error: Invalid input. Please enter a valid number.\")\n",
    "            except ArithmeticError:\n",
    "                print(\"Error: Arithmetic error occurred.\")\n",
    "            except Exception as e:\n",
    "                print(\"An error occurred:\", e)\n",
    "\n"
   ]
  },
  {
   "cell_type": "code",
   "execution_count": null,
   "id": "3a36357a",
   "metadata": {},
   "outputs": [],
   "source": [
    "\"\"\"\"\n",
    "7. Write the reason due to which following errors are raised:\n",
    "a. EOFError\n",
    "b. FloatingPointError\n",
    "c. IndexError\n",
    "d. MemoryError\n",
    "e. OverflowError\n",
    "f. TabError\n",
    "g. ValueError\n",
    "\n",
    "Ans.\n",
    "a. EOFError: Stands for \"End of File Error\". This error occurs when an input operation reaches the end of a file or stream but expects more data to be available.\n",
    "\n",
    "b. FloatingPointError: This error occurs when a floating-point arithmetic operation fails. It can occur, for example, when trying to perform an illegal mathematical operation involving floating-point numbers, such as division by zero in floating-point arithmetic.\n",
    "\n",
    "c. IndexError: This error occurs when trying to access an index of a sequence (like a list or a string) that is out of the valid range. In other words, you're trying to access an element at an index that doesn't exist in the sequence.\n",
    "\n",
    "d. MemoryError: This error occurs when the Python interpreter runs out of memory while trying to allocate an object. It happens when the program's memory consumption exceeds the available system memory.\n",
    "\n",
    "e. OverflowError: This error occurs when a mathematical operation results in a value that is too large (overflow) to be represented by the data type being used. For example, if you're working with integers and the result of an operation exceeds the maximum representable value.\n",
    "\n",
    "f. TabError: This error occurs when there are inconsistencies in using tabs and spaces for indentation. Python enforces consistent indentation, and mixing tabs and spaces can lead to this error.\n",
    "\n",
    "g. ValueError: This error occurs when a function receives an argument of the correct data type but with an invalid value. For example, trying to convert a string to an integer when the string is not a valid integer representation would raise a ValueError.\n",
    "\"\"\"\"\n",
    "\n"
   ]
  },
  {
   "cell_type": "code",
   "execution_count": null,
   "id": "51560edd",
   "metadata": {},
   "outputs": [],
   "source": [
    "#8. Write code for the following given scenario and add try-exception block to it.\n",
    "#8a. Program to divide two numbers\n",
    "#Ans. \n",
    "            try:\n",
    "                numerator = float(input(\"Enter numerator: \"))\n",
    "                denominator = float(input(\"Enter denominator: \"))\n",
    "                result = numerator / denominator\n",
    "                print(\"Result:\", result)\n",
    "            except ZeroDivisionError:\n",
    "                print(\"Error: Cannot divide by zero.\")\n",
    "            except ValueError:\n",
    "                print(\"Error: Invalid input. Please enter valid numbers.\")\n",
    "            except Exception as e:\n",
    "                print(\"An error occurred:\", e)\n",
    "\n"
   ]
  },
  {
   "cell_type": "code",
   "execution_count": null,
   "id": "e5060334",
   "metadata": {},
   "outputs": [],
   "source": [
    "#8b. Program to convert a string to an integer\n",
    "#Ans. \n",
    "            try:\n",
    "                input_string = input(\"Enter an integer: \")\n",
    "                integer_value = int(input_string)\n",
    "                print(\"Integer:\", integer_value)\n",
    "            except ValueError:\n",
    "                print(\"Error: Invalid input. Please enter a valid integer.\")\n",
    "            except Exception as e:\n",
    "                print(\"An error occurred:\", e)\n",
    "\n"
   ]
  },
  {
   "cell_type": "code",
   "execution_count": null,
   "id": "a50e870d",
   "metadata": {},
   "outputs": [],
   "source": [
    "#8c. Program to access an element in a list.\n",
    "#Ans.\n",
    "            try:\n",
    "                my_list = [1, 2, 3, 4, 5]\n",
    "                index = int(input(\"Enter an index: \"))\n",
    "                element = my_list[index]\n",
    "                print(\"Element at index\", index, \":\", element)\n",
    "            except IndexError:\n",
    "                print(\"Error: Index out of range.\")\n",
    "            except ValueError:\n",
    "                print(\"Error: Invalid input. Please enter a valid index.\")\n",
    "            except Exception as e:\n",
    "                print(\"An error occurred:\", e)\n",
    "\n"
   ]
  },
  {
   "cell_type": "code",
   "execution_count": null,
   "id": "1bdaf29c",
   "metadata": {},
   "outputs": [],
   "source": [
    "#8d. Program to handle a specific exception\n",
    "#Ans.\n",
    "            try:\n",
    "                x = int(input(\"Enter a number: \"))\n",
    "                if x < 0:\n",
    "                    raise ValueError(\"Negative numbers are not allowed.\")\n",
    "                print(\"Number:\", x)\n",
    "            except ValueError as ve:\n",
    "                print(\"ValueError:\", ve)\n",
    "            except Exception as e:\n",
    "                print(\"An error occurred:\", e)\n",
    "\n"
   ]
  },
  {
   "cell_type": "code",
   "execution_count": null,
   "id": "7b106cb5",
   "metadata": {},
   "outputs": [],
   "source": [
    "#8e. Program to handle any exception\n",
    "#Ans.\n",
    "            try:\n",
    "                user_input = input(\"Enter something: \")\n",
    "                result = 10 / int(user_input)\n",
    "                print(\"Result:\", result)\n",
    "            except Exception as e:\n",
    "                print(\"An error occurred:\", e)"
   ]
  },
  {
   "cell_type": "code",
   "execution_count": null,
   "id": "857607ef",
   "metadata": {},
   "outputs": [],
   "source": []
  }
 ],
 "metadata": {
  "kernelspec": {
   "display_name": "Python 3 (ipykernel)",
   "language": "python",
   "name": "python3"
  },
  "language_info": {
   "codemirror_mode": {
    "name": "ipython",
    "version": 3
   },
   "file_extension": ".py",
   "mimetype": "text/x-python",
   "name": "python",
   "nbconvert_exporter": "python",
   "pygments_lexer": "ipython3",
   "version": "3.9.13"
  }
 },
 "nbformat": 4,
 "nbformat_minor": 5
}
